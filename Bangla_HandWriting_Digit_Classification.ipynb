{
 "cells": [
  {
   "cell_type": "code",
   "execution_count": 1,
   "metadata": {},
   "outputs": [
    {
     "name": "stdout",
     "output_type": "stream",
     "text": [
      "Requirement already satisfied: numpy in c:\\users\\user\\anaconda3\\lib\\site-packages (1.19.2)\n",
      "Note: you may need to restart the kernel to use updated packages.\n"
     ]
    }
   ],
   "source": [
    "pip install numpy"
   ]
  },
  {
   "cell_type": "code",
   "execution_count": 2,
   "metadata": {},
   "outputs": [
    {
     "name": "stdout",
     "output_type": "stream",
     "text": [
      "Requirement already satisfied: numpy in c:\\users\\user\\anaconda3\\lib\\site-packages (1.19.2)\n"
     ]
    }
   ],
   "source": [
    "# Install a pip package in the current Jupyter kernel\n",
    "import sys\n",
    "!{sys.executable} -m pip install numpy"
   ]
  },
  {
   "cell_type": "code",
   "execution_count": 3,
   "metadata": {},
   "outputs": [
    {
     "ename": "ImportError",
     "evalue": "cannot import name 'Adam' from 'keras.optimizers' (C:\\Users\\User\\anaconda3\\lib\\site-packages\\keras\\optimizers.py)",
     "output_type": "error",
     "traceback": [
      "\u001b[1;31m---------------------------------------------------------------------------\u001b[0m",
      "\u001b[1;31mImportError\u001b[0m                               Traceback (most recent call last)",
      "\u001b[1;32m<ipython-input-3-89ba4b5d7fd3>\u001b[0m in \u001b[0;36m<module>\u001b[1;34m\u001b[0m\n\u001b[0;32m     10\u001b[0m \u001b[1;32mfrom\u001b[0m \u001b[0mkeras\u001b[0m\u001b[1;33m.\u001b[0m\u001b[0mmodels\u001b[0m \u001b[1;32mimport\u001b[0m \u001b[0mSequential\u001b[0m\u001b[1;33m\u001b[0m\u001b[1;33m\u001b[0m\u001b[0m\n\u001b[0;32m     11\u001b[0m \u001b[1;32mfrom\u001b[0m \u001b[0mkeras\u001b[0m\u001b[1;33m.\u001b[0m\u001b[0mlayers\u001b[0m \u001b[1;32mimport\u001b[0m \u001b[0mConv2D\u001b[0m\u001b[1;33m,\u001b[0m \u001b[0mDense\u001b[0m\u001b[1;33m,\u001b[0m \u001b[0mMaxPooling2D\u001b[0m\u001b[1;33m,\u001b[0m \u001b[0mActivation\u001b[0m\u001b[1;33m,\u001b[0m \u001b[0mDropout\u001b[0m\u001b[1;33m,\u001b[0m \u001b[0mFlatten\u001b[0m\u001b[1;33m\u001b[0m\u001b[1;33m\u001b[0m\u001b[0m\n\u001b[1;32m---> 12\u001b[1;33m \u001b[1;32mfrom\u001b[0m \u001b[0mkeras\u001b[0m\u001b[1;33m.\u001b[0m\u001b[0moptimizers\u001b[0m \u001b[1;32mimport\u001b[0m \u001b[0mAdam\u001b[0m\u001b[1;33m\u001b[0m\u001b[1;33m\u001b[0m\u001b[0m\n\u001b[0m\u001b[0;32m     13\u001b[0m \u001b[1;33m\u001b[0m\u001b[0m\n\u001b[0;32m     14\u001b[0m \u001b[0mpath\u001b[0m\u001b[1;33m=\u001b[0m\u001b[1;34m'dataset'\u001b[0m\u001b[1;33m\u001b[0m\u001b[1;33m\u001b[0m\u001b[0m\n",
      "\u001b[1;31mImportError\u001b[0m: cannot import name 'Adam' from 'keras.optimizers' (C:\\Users\\User\\anaconda3\\lib\\site-packages\\keras\\optimizers.py)"
     ]
    }
   ],
   "source": [
    "import warnings\n",
    "warnings.filterwarnings('ignore')\n",
    "import cv2\n",
    "import numpy as np\n",
    "import os\n",
    "import matplotlib.pyplot as plt\n",
    "from sklearn.model_selection import train_test_split\n",
    "from keras.preprocessing.image import ImageDataGenerator\n",
    "from keras.utils.np_utils import to_categorical\n",
    "from keras.models import Sequential\n",
    "from keras.layers import Conv2D, Dense, MaxPooling2D, Activation, Dropout, Flatten\n",
    "from keras.optimizers import Adam\n",
    "\n",
    "path='dataset'\n",
    "images=[]\n",
    "classNo=[]\n",
    "testRatio=0.2\n",
    "valRatio=0.2\n",
    "imgDimension=(32,32,3)"
   ]
  },
  {
   "cell_type": "code",
   "execution_count": null,
   "metadata": {},
   "outputs": [],
   "source": [
    "myList=os.listdir(path)\n",
    "\n",
    "numOfClasses=len(myList)\n",
    "\n",
    "print(\"Importing Classes..........\")\n",
    "for x in range(0, numOfClasses):\n",
    "\tmyPicList=os.listdir(path+\"/\"+str(x))\n",
    "\tfor y in myPicList:\n",
    "\t\tcurImg=cv2.imread(path+\"/\"+str(x)+\"/\"+y)\n",
    "\t\tcurImg=cv2.resize(curImg,(imgDimension[0],imgDimension[1]))\n",
    "\t\timages.append(curImg)\n",
    "\t\tclassNo.append(x)\n",
    "\tprint(x)\n",
    "\n",
    "images=np.array(images)\n",
    "classNo=np.array(classNo)"
   ]
  },
  {
   "cell_type": "code",
   "execution_count": null,
   "metadata": {},
   "outputs": [],
   "source": [
    "x_train, x_test, y_train, y_test=train_test_split(images, classNo, test_size=testRatio)\n",
    "x_train, x_validation, y_train, y_validation=train_test_split(x_train, y_train, test_size=valRatio)"
   ]
  },
  {
   "cell_type": "code",
   "execution_count": null,
   "metadata": {},
   "outputs": [],
   "source": [
    "numOfSample=[]\n",
    "\n",
    "for x in range(0,numOfClasses):\n",
    "\tnumOfSample.append(len(np.where(y_train==x)[0]))\n",
    "\n",
    "\n",
    "plt.figure(figsize=(10,5))\n",
    "plt.bar(range(0, numOfClasses),numOfSample)\n",
    "plt.title(\"Bar Plot of Classes & Images\")\n",
    "plt.xlabel(\"No Of Classes\")\n",
    "plt.ylabel(\"No of Images\")\n",
    "plt.show()"
   ]
  },
  {
   "cell_type": "code",
   "execution_count": null,
   "metadata": {},
   "outputs": [],
   "source": [
    "def preprocessing(img):\n",
    "\t# img=np.astype(\"uint8\")\n",
    "\timg=cv2.cvtColor(img, cv2.COLOR_BGR2GRAY)\n",
    "\t_, img = cv2.threshold(img, 170, 255, cv2.THRESH_BINARY)\n",
    "\timg=cv2.equalizeHist(img)\n",
    "\timg=img/255\n",
    "\treturn img\n",
    "\n",
    "\n",
    "x_train=np.array(list(map(preprocessing, x_train)))\n",
    "x_test=np.array(list(map(preprocessing, x_test)))\n",
    "x_validation=np.array(list(map(preprocessing, x_validation)))"
   ]
  },
  {
   "cell_type": "code",
   "execution_count": null,
   "metadata": {},
   "outputs": [],
   "source": [
    "x_train=x_train.reshape(x_train.shape[0], x_train.shape[1], x_train.shape[2],1)\n",
    "x_test=x_test.reshape(x_test.shape[0], x_test.shape[1], x_test.shape[2],1)\n",
    "x_validation=x_validation.reshape(x_validation.shape[0], x_validation.shape[1], x_validation.shape[2],1)\n",
    "\n",
    "\n",
    "dataGen=ImageDataGenerator(\n",
    "\twidth_shift_range=0.1,\n",
    "\theight_shift_range=0.1,\n",
    "\tzoom_range=0.2,\n",
    "\tshear_range=0.1,\n",
    "\trotation_range=10)\n",
    "\n",
    "dataGen.fit(x_train)\n",
    "\n",
    "y_train=to_categorical(y_train, numOfClasses)\n",
    "y_test=to_categorical(y_test, numOfClasses)\n",
    "y_validation=to_categorical(y_validation, numOfClasses)"
   ]
  },
  {
   "cell_type": "code",
   "execution_count": null,
   "metadata": {},
   "outputs": [],
   "source": [
    "def myModel():\n",
    "\tnoOfFilters=60\n",
    "\tsizeOfFilter1=(5,5)\n",
    "\tsizeOfFilter2=(3,3)\n",
    "\tsizeOfPool=(2,2)\n",
    "\tnoOfNode=50\n",
    "\n",
    "\tmodel=Sequential()\n",
    "\tmodel.add((Conv2D(noOfFilters, sizeOfFilter1, input_shape=(imgDimension[0],imgDimension[1],1),activation='relu')))\n",
    "\tmodel.add((Conv2D(noOfFilters, sizeOfFilter1,activation='relu')))\n",
    "\tmodel.add(MaxPooling2D(pool_size=sizeOfPool))\n",
    "\n",
    "\tmodel.add((Conv2D(noOfFilters//2, sizeOfFilter2,activation='relu')))\n",
    "\tmodel.add((Conv2D(noOfFilters//2, sizeOfFilter2,activation='relu')))\n",
    "\tmodel.add(MaxPooling2D(pool_size=sizeOfPool))\n",
    "\tmodel.add(Dropout(0.5))\n",
    "\n",
    "\n",
    "\tmodel.add(Flatten())\n",
    "\tmodel.add(Dense(noOfNode, activation='relu'))\n",
    "\tmodel.add(Dropout(0.5))\n",
    "\tmodel.add(Dense(numOfClasses, activation='softmax'))\n",
    "\tmodel.compile(Adam(lr=0.001),loss='categorical_crossentropy',metrics=['accuracy'])\n",
    "\treturn model\n",
    "\n",
    "model=myModel()\n",
    "print(model.summary())\n",
    "\n",
    "history=model.fit_generator(dataGen.flow(x_train, y_train,batch_size=50),\n",
    "\tsteps_per_epoch=2000,\n",
    "\tepochs=5,\n",
    "\tvalidation_data=(x_validation,y_validation),\n",
    "\tshuffle=1)\n",
    "\n",
    "model.save(\"BanglaModel.h5\")"
   ]
  },
  {
   "cell_type": "code",
   "execution_count": null,
   "metadata": {},
   "outputs": [],
   "source": []
  },
  {
   "cell_type": "code",
   "execution_count": null,
   "metadata": {},
   "outputs": [],
   "source": []
  },
  {
   "cell_type": "code",
   "execution_count": null,
   "metadata": {},
   "outputs": [],
   "source": []
  },
  {
   "cell_type": "code",
   "execution_count": null,
   "metadata": {},
   "outputs": [],
   "source": []
  }
 ],
 "metadata": {
  "kernelspec": {
   "display_name": "Python 3",
   "language": "python",
   "name": "python3"
  },
  "language_info": {
   "codemirror_mode": {
    "name": "ipython",
    "version": 3
   },
   "file_extension": ".py",
   "mimetype": "text/x-python",
   "name": "python",
   "nbconvert_exporter": "python",
   "pygments_lexer": "ipython3",
   "version": "3.8.5"
  }
 },
 "nbformat": 4,
 "nbformat_minor": 5
}
